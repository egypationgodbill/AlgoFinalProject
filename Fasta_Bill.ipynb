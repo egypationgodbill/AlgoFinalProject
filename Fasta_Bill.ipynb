{
  "nbformat": 4,
  "nbformat_minor": 0,
  "metadata": {
    "colab": {
      "name": "Fasta_Bill.ipynb",
      "provenance": [],
      "collapsed_sections": []
    },
    "kernelspec": {
      "name": "python3",
      "display_name": "Python 3"
    },
    "language_info": {
      "name": "python"
    }
  },
  "cells": [
    {
      "cell_type": "code",
      "metadata": {
        "colab": {
          "base_uri": "https://localhost:8080/"
        },
        "id": "NuxOEVe2NlqU",
        "outputId": "aa48222d-630e-4b17-903e-bf45e618e379"
      },
      "source": [
        "!pip install Biopython"
      ],
      "execution_count": null,
      "outputs": [
        {
          "output_type": "stream",
          "name": "stdout",
          "text": [
            "Collecting Biopython\n",
            "  Downloading biopython-1.79-cp37-cp37m-manylinux_2_5_x86_64.manylinux1_x86_64.whl (2.3 MB)\n",
            "\u001b[K     |████████████████████████████████| 2.3 MB 5.2 MB/s \n",
            "\u001b[?25hRequirement already satisfied: numpy in /usr/local/lib/python3.7/dist-packages (from Biopython) (1.19.5)\n",
            "Installing collected packages: Biopython\n",
            "Successfully installed Biopython-1.79\n"
          ]
        }
      ]
    },
    {
      "cell_type": "code",
      "metadata": {
        "colab": {
          "base_uri": "https://localhost:8080/"
        },
        "id": "rW3vs2oQOYIc",
        "outputId": "3207d699-9202-4730-8b3b-599d15dd9744"
      },
      "source": [
        "##testing bio python and fasta\n",
        "import numpy as np\n",
        "import pandas as pd\n",
        "import Bio\n",
        "print (\"Biopython v\" + Bio.__version__)"
      ],
      "execution_count": null,
      "outputs": [
        {
          "output_type": "stream",
          "name": "stdout",
          "text": [
            "Biopython v1.79\n"
          ]
        }
      ]
    },
    {
      "cell_type": "code",
      "metadata": {
        "colab": {
          "base_uri": "https://localhost:8080/"
        },
        "id": "Ha1dzzPwOUvY",
        "outputId": "4974e1d2-716a-4cae-b7ae-8475b8265cad"
      },
      "source": [
        "from Bio.Seq import Seq\n",
        "my_seq = Seq(\"TGCA\")\n",
        "print (my_seq)\n",
        "#print (my_seq.alphabet)\n",
        "print(my_seq.complement())\n",
        "print(my_seq.complement_rna())"
      ],
      "execution_count": null,
      "outputs": [
        {
          "output_type": "stream",
          "name": "stdout",
          "text": [
            "TGCA\n",
            "ACGT\n",
            "ACGU\n"
          ]
        }
      ]
    },
    {
      "cell_type": "code",
      "metadata": {
        "colab": {
          "base_uri": "https://localhost:8080/"
        },
        "id": "ZIp8COf6OySp",
        "outputId": "ecf8180e-84aa-4ca0-9e73-f948969582c7"
      },
      "source": [
        "from Bio import SeqIO\n",
        "\n",
        "#count = 0\n",
        "sequences = []\n",
        "for seq_record in SeqIO.parse(\"Delta Spike Protein.fasta\", \"fasta\"):\n",
        "  sequences.append (seq_record)\n",
        "  #if count%20 == 0:\n",
        "  #  print(\"Id: \" + seq_record.id + \" \\t \" + \"Length: \" + str(\"{:,d}\".format(len(seq_record))) )\n",
        "  #  print(seq_record)\n",
        "  #  print(repr(seq_record.seq) + \"\\n\")\n",
        " # count = count + 1"
      ],
      "execution_count": null,
      "outputs": [
        {
          "output_type": "stream",
          "name": "stdout",
          "text": [
            "Id: UDM88000.1 \t Length: 1,271\n",
            "ID: UDM88000.1\n",
            "Name: UDM88000.1\n",
            "Description: UDM88000.1 |surface glycoprotein [Severe acute respiratory syndrome coronavirus 2]|B.1.617.2|surface glycoprotein\n",
            "Number of features: 0\n",
            "Seq('MFVFFVLLPLVSSQCVNLRTRTQLPPAYTNSFTRGVYYPDKVFRSSVLHSTQDL...HYT')\n",
            "Seq('MFVFFVLLPLVSSQCVNLRTRTQLPPAYTNSFTRGVYYPDKVFRSSVLHSTQDL...HYT')\n",
            "\n",
            "Id: UDG31964.1 \t Length: 1,271\n",
            "ID: UDG31964.1\n",
            "Name: UDG31964.1\n",
            "Description: UDG31964.1 |surface glycoprotein [Severe acute respiratory syndrome coronavirus 2]|B.1.617.2|surface glycoprotein\n",
            "Number of features: 0\n",
            "Seq('MFVFLVLLPLVSSQCVNLRTRTQLPPAYTNSFTRGVYYPDKVFRSSVLHSTQDL...HYT')\n",
            "Seq('MFVFLVLLPLVSSQCVNLRTRTQLPPAYTNSFTRGVYYPDKVFRSSVLHSTQDL...HYT')\n",
            "\n",
            "Id: UDH70860.1 \t Length: 1,273\n",
            "ID: UDH70860.1\n",
            "Name: UDH70860.1\n",
            "Description: UDH70860.1 |surface glycoprotein [Severe acute respiratory syndrome coronavirus 2]|B.1.617.2|surface glycoprotein\n",
            "Number of features: 0\n",
            "Seq('MFVFLVLLPLVSSQCVNLRTRTQLPPAYTNSFTRGVYYPDKVFRSSVLHSTQDL...HYT')\n",
            "Seq('MFVFLVLLPLVSSQCVNLRTRTQLPPAYTNSFTRGVYYPDKVFRSSVLHSTQDL...HYT')\n",
            "\n",
            "Id: UDI60266.1 \t Length: 1,271\n",
            "ID: UDI60266.1\n",
            "Name: UDI60266.1\n",
            "Description: UDI60266.1 |surface glycoprotein [Severe acute respiratory syndrome coronavirus 2]|B.1.617.2|surface glycoprotein\n",
            "Number of features: 0\n",
            "Seq('MFVFLVLLPLVSSQCVNLRTRTQLPPAYTNSFTRGVYYPDKVFRSSVLHSTQDL...HYT')\n",
            "Seq('MFVFLVLLPLVSSQCVNLRTRTQLPPAYTNSFTRGVYYPDKVFRSSVLHSTQDL...HYT')\n",
            "\n",
            "Id: UDJ49893.1 \t Length: 1,271\n",
            "ID: UDJ49893.1\n",
            "Name: UDJ49893.1\n",
            "Description: UDJ49893.1 |surface glycoprotein [Severe acute respiratory syndrome coronavirus 2]|B.1.617.2|surface glycoprotein\n",
            "Number of features: 0\n",
            "Seq('MFVFLVLLPLVSSQCVNLRTRTQLPPAYTNSFTRGVYYPDKVFRSSVLHSTQDL...HYT')\n",
            "Seq('MFVFLVLLPLVSSQCVNLRTRTQLPPAYTNSFTRGVYYPDKVFRSSVLHSTQDL...HYT')\n",
            "\n",
            "Id: UDK54445.1 \t Length: 1,271\n",
            "ID: UDK54445.1\n",
            "Name: UDK54445.1\n",
            "Description: UDK54445.1 |surface glycoprotein [Severe acute respiratory syndrome coronavirus 2]|B.1.617.2|surface glycoprotein\n",
            "Number of features: 0\n",
            "Seq('MFVFLVLLPLVSSQCVNLRTRTQLPPAYTNSFTRGVYYPDKVFRSSVLHSTQDL...HYT')\n",
            "Seq('MFVFLVLLPLVSSQCVNLRTRTQLPPAYTNSFTRGVYYPDKVFRSSVLHSTQDL...HYT')\n",
            "\n",
            "Id: UDE44693.1 \t Length: 1,271\n",
            "ID: UDE44693.1\n",
            "Name: UDE44693.1\n",
            "Description: UDE44693.1 |surface glycoprotein [Severe acute respiratory syndrome coronavirus 2]|B.1.617.2|surface glycoprotein\n",
            "Number of features: 0\n",
            "Seq('MFVFLVLLPLVSSQCVNLRTRTQLPPAYTNSFTRGVYYPDKVFRSSVLHSTQDL...HYT')\n",
            "Seq('MFVFLVLLPLVSSQCVNLRTRTQLPPAYTNSFTRGVYYPDKVFRSSVLHSTQDL...HYT')\n",
            "\n",
            "Id: UDE80562.1 \t Length: 1,271\n",
            "ID: UDE80562.1\n",
            "Name: UDE80562.1\n",
            "Description: UDE80562.1 |surface glycoprotein [Severe acute respiratory syndrome coronavirus 2]|B.1.617.2|surface glycoprotein\n",
            "Number of features: 0\n",
            "Seq('MFVFLVLLPLVSSQCVNLRTRTQLPPAYTNSFTRGVYYPDKVFRSSVLHSTQDL...HYT')\n",
            "Seq('MFVFLVLLPLVSSQCVNLRTRTQLPPAYTNSFTRGVYYPDKVFRSSVLHSTQDL...HYT')\n",
            "\n",
            "Id: UDF41953.1 \t Length: 1,271\n",
            "ID: UDF41953.1\n",
            "Name: UDF41953.1\n",
            "Description: UDF41953.1 |surface glycoprotein [Severe acute respiratory syndrome coronavirus 2]|B.1.617.2|surface glycoprotein\n",
            "Number of features: 0\n",
            "Seq('MFVFLVLLPLVSSQCVNLRTRTQLPPAYTNSFTRGVYYPDKVFRSSVLHSTQDL...HYT')\n",
            "Seq('MFVFLVLLPLVSSQCVNLRTRTQLPPAYTNSFTRGVYYPDKVFRSSVLHSTQDL...HYT')\n",
            "\n",
            "Id: UDA12262.1 \t Length: 1,271\n",
            "ID: UDA12262.1\n",
            "Name: UDA12262.1\n",
            "Description: UDA12262.1 |surface glycoprotein [Severe acute respiratory syndrome coronavirus 2]|B.1.617.2|surface glycoprotein\n",
            "Number of features: 0\n",
            "Seq('MFVFLVLLPLVSSQCVNLRTRTQLPPAYTNSFTRGVYYPDKVFRSSVLHSTQDL...HYT')\n",
            "Seq('MFVFLVLLPLVSSQCVNLRTRTQLPPAYTNSFTRGVYYPDKVFRSSVLHSTQDL...HYT')\n",
            "\n"
          ]
        }
      ]
    },
    {
      "cell_type": "code",
      "metadata": {
        "colab": {
          "base_uri": "https://localhost:8080/"
        },
        "id": "zmEZN_j9RvF3",
        "outputId": "8ae97064-ee0f-48e8-98aa-6e1be1e573c4"
      },
      "source": [
        "pip install textdistance"
      ],
      "execution_count": null,
      "outputs": [
        {
          "output_type": "stream",
          "name": "stdout",
          "text": [
            "Collecting textdistance\n",
            "  Downloading textdistance-4.2.2-py3-none-any.whl (28 kB)\n",
            "Installing collected packages: textdistance\n",
            "Successfully installed textdistance-4.2.2\n"
          ]
        }
      ]
    },
    {
      "cell_type": "code",
      "metadata": {
        "id": "dKluw2mWF8hI"
      },
      "source": [
        "import textdistance"
      ],
      "execution_count": null,
      "outputs": []
    },
    {
      "cell_type": "code",
      "metadata": {
        "id": "Q1R0kerdGmqn"
      },
      "source": [
        "string1 = sequences[0].seq\n",
        "string2 = sequences[1].seq"
      ],
      "execution_count": null,
      "outputs": []
    },
    {
      "cell_type": "code",
      "metadata": {
        "colab": {
          "base_uri": "https://localhost:8080/"
        },
        "id": "ohI5SEufGc3W",
        "outputId": "14507a74-9015-4712-8b90-a8086c03f46d"
      },
      "source": [
        "textdistance.ratcliff_obershelp(string1, string2)"
      ],
      "execution_count": null,
      "outputs": [
        {
          "output_type": "execute_result",
          "data": {
            "text/plain": [
              "0.999213217938631"
            ]
          },
          "metadata": {},
          "execution_count": 12
        }
      ]
    },
    {
      "cell_type": "code",
      "metadata": {
        "id": "L7-7U4ACWrYe"
      },
      "source": [
        "#count = 0\n",
        "Alphasequences = []\n",
        "for seq_record in SeqIO.parse(\"Alpha Spike Protein.fasta\", \"fasta\"):\n",
        "  Alphasequences.append (seq_record)\n",
        "  #if count%20 == 0:\n",
        "  #  print(\"Id: \" + seq_record.id + \" \\t \" + \"Length: \" + str(\"{:,d}\".format(len(seq_record))) )\n",
        "  #  print(seq_record)\n",
        "  #  print(repr(seq_record.seq) + \"\\n\")\n",
        " # count = count + 1"
      ],
      "execution_count": null,
      "outputs": []
    },
    {
      "cell_type": "code",
      "metadata": {
        "id": "20h50p2RKb9-"
      },
      "source": [
        "string3 = Alphasequences[3].seq\n",
        "print(string3)\n",
        "print(string1)"
      ],
      "execution_count": null,
      "outputs": []
    },
    {
      "cell_type": "code",
      "metadata": {
        "id": "Aq_ib3BUKVE7"
      },
      "source": [
        "import random"
      ],
      "execution_count": null,
      "outputs": []
    },
    {
      "cell_type": "code",
      "metadata": {
        "id": "QtDahIPOcP50",
        "colab": {
          "base_uri": "https://localhost:8080/",
          "height": 198
        },
        "outputId": "5047e5c9-9226-4b8d-b9e4-3fe59d645206"
      },
      "source": [
        "#calculate the average ratcliff_obershelp in this Delta dataset by taking 10 pairs of random sample\n",
        "RO = []\n",
        "for i in range(10):\n",
        "  r1 = random.randint(0,199)\n",
        "  r2 = random.randint(0,199)\n",
        "  RO.append(textdistance.ratcliff_obershelp(sequences[r1].seq,sequences[r2].seq))\n",
        "\n",
        "\n"
      ],
      "execution_count": null,
      "outputs": [
        {
          "output_type": "error",
          "ename": "AttributeError",
          "evalue": "ignored",
          "traceback": [
            "\u001b[0;31m---------------------------------------------------------------------------\u001b[0m",
            "\u001b[0;31mAttributeError\u001b[0m                            Traceback (most recent call last)",
            "\u001b[0;32m<ipython-input-25-37066b09d47e>\u001b[0m in \u001b[0;36m<module>\u001b[0;34m()\u001b[0m\n\u001b[1;32m      6\u001b[0m   \u001b[0mRO\u001b[0m\u001b[0;34m.\u001b[0m\u001b[0mappend\u001b[0m\u001b[0;34m(\u001b[0m\u001b[0mtextdistance\u001b[0m\u001b[0;34m.\u001b[0m\u001b[0mratcliff_obershelp\u001b[0m\u001b[0;34m(\u001b[0m\u001b[0msequences\u001b[0m\u001b[0;34m[\u001b[0m\u001b[0mr1\u001b[0m\u001b[0;34m]\u001b[0m\u001b[0;34m.\u001b[0m\u001b[0mseq\u001b[0m\u001b[0;34m,\u001b[0m\u001b[0msequences\u001b[0m\u001b[0;34m[\u001b[0m\u001b[0mr2\u001b[0m\u001b[0;34m]\u001b[0m\u001b[0;34m.\u001b[0m\u001b[0mseq\u001b[0m\u001b[0;34m)\u001b[0m\u001b[0;34m)\u001b[0m\u001b[0;34m\u001b[0m\u001b[0;34m\u001b[0m\u001b[0m\n\u001b[1;32m      7\u001b[0m \u001b[0;34m\u001b[0m\u001b[0m\n\u001b[0;32m----> 8\u001b[0;31m \u001b[0mprint\u001b[0m \u001b[0;34m(\u001b[0m\u001b[0mRO\u001b[0m\u001b[0;34m.\u001b[0m\u001b[0mmean\u001b[0m\u001b[0;34m(\u001b[0m\u001b[0maxis\u001b[0m \u001b[0;34m=\u001b[0m \u001b[0;36m0\u001b[0m\u001b[0;34m)\u001b[0m\u001b[0;34m)\u001b[0m\u001b[0;34m\u001b[0m\u001b[0;34m\u001b[0m\u001b[0m\n\u001b[0m",
            "\u001b[0;31mAttributeError\u001b[0m: 'list' object has no attribute 'mean'"
          ]
        }
      ]
    },
    {
      "cell_type": "code",
      "metadata": {
        "colab": {
          "base_uri": "https://localhost:8080/"
        },
        "id": "3VpHEd_lMlNq",
        "outputId": "1ca05973-e455-4248-94cc-9bc4e9120529"
      },
      "source": [
        "npRO = np.array(RO)\n",
        "print(npRO.mean(axis = 0))"
      ],
      "execution_count": null,
      "outputs": [
        {
          "output_type": "stream",
          "name": "stdout",
          "text": [
            "0.9940207037493382\n"
          ]
        }
      ]
    },
    {
      "cell_type": "code",
      "metadata": {
        "colab": {
          "base_uri": "https://localhost:8080/"
        },
        "id": "zVdl6lwMdbjm",
        "outputId": "bc13acfd-214b-4281-dc84-13a4e7e1338c"
      },
      "source": [
        "#calculate the average ratcliff_obershelp in this Alpha dataset by taking 10 pairs of random sample\n",
        "ARO = []\n",
        "for i in range(10):\n",
        "  r1 = random.randint(0,199)\n",
        "  r2 = random.randint(0,199)\n",
        "  ARO.append(textdistance.ratcliff_obershelp(Alphasequences[r1].seq,Alphasequences[r2].seq))\n",
        "npARO = np.array(ARO)\n",
        "print(npARO.mean(axis=0))"
      ],
      "execution_count": null,
      "outputs": [
        {
          "output_type": "stream",
          "name": "stdout",
          "text": [
            "0.9988188976377952\n"
          ]
        }
      ]
    },
    {
      "cell_type": "code",
      "metadata": {
        "colab": {
          "base_uri": "https://localhost:8080/"
        },
        "id": "c77q9BKdNtyJ",
        "outputId": "128c9b5c-c2e6-43ac-d246-ba6a2cf77977"
      },
      "source": [
        "#calculate the average ratcliff_obershelp in this Alpha and delta dataset by taking 10 pairs of random sample\n",
        "DARO = []\n",
        "for i in range(10):\n",
        "  r1 = random.randint(0,199)\n",
        "  r2 = random.randint(0,199)\n",
        "  DARO.append(textdistance.ratcliff_obershelp(Alphasequences[r1].seq,sequences[r2].seq))\n",
        "npDARO = np.array(DARO)\n",
        "print(npDARO.mean(axis=0))"
      ],
      "execution_count": null,
      "outputs": [
        {
          "output_type": "stream",
          "name": "stdout",
          "text": [
            "0.9868555686737505\n"
          ]
        }
      ]
    },
    {
      "cell_type": "code",
      "metadata": {
        "id": "4i0pfxZgdhzD"
      },
      "source": [
        "count = 0\n",
        "AYSequence = []\n",
        "for seq_record in SeqIO.parse(\"COVID AY42.fasta\", \"fasta\"):\n",
        "  AYSequence.append (seq_record)\n",
        "\n",
        "  if count % 100 ==0:\n",
        "    print(\" \\t \" + \"Length: \" + str(\"{:,d}\".format(len(seq_record))) )\n",
        "    print(repr(seq_record.seq) + \"\\n\")\n",
        "    print(count)\n",
        "  count = count + 1"
      ],
      "execution_count": null,
      "outputs": []
    }
  ]
}